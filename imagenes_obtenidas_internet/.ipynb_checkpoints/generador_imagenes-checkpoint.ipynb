{
 "cells": [
  {
   "cell_type": "markdown",
   "metadata": {},
   "source": [
    "# Introducción\n",
    "Esta libreta nos ayudara a la hora de nosotros hacer nuestro propio dataset, es decir la imagenes que\n",
    "utilizaremos para el entrenamiento y validación.\n",
    "\n",
    "# Generación de imagenes\n",
    "Para manejar las imagenes usaremos la libreria de python PIL \n",
    "\n",
    "Por lo general se usa solo el formato .jpg así que si tienes imagenes en otro formato te recomiendo que lo cambies a JPG [aquí](http://png2jpg.com/es/) "
   ]
  },
  {
   "cell_type": "code",
   "execution_count": 2,
   "metadata": {},
   "outputs": [
    {
     "data": {
      "text/plain": [
       "'\\n#Agora las rotamos 90 grados\\nfor infile in glob.glob(\"*.jpg\"):\\n    file, ext = os.path.splitext(infile)\\n    im = Image.open(infile)\\n    im.thumbnail(size)\\n    im.rotate(90).save(\"imagenes_generadas/imagen{}.jpg\".format(i), \"JPEG\")\\n    i+=1\\n    tupla=im.split()\\n    tupla[0].rotate(90).save(\"imagenes_generadas/imagen{}.jpg\".format(i), \"JPEG\")\\n    i+=1\\n    tupla[1].rotate(90).save(\"imagenes_generadas/imagen{}.jpg\".format(i), \"JPEG\")\\n    i+=1\\n    tupla[2].rotate(90).save(\"imagenes_generadas/imagen{}.jpg\".format(i), \"JPEG\")\\n    i+=1    \\n    \\n#Agora las rotamos 180 grados\\nfor infile in glob.glob(\"*.jpg\"):\\n    file, ext = os.path.splitext(infile)\\n    im = Image.open(infile)\\n    im.thumbnail(size)\\n    im.rotate(180).save(\"imagenes_generadas/imagen{}.jpg\".format(i), \"JPEG\")\\n    i+=1\\n    tupla=im.split()\\n    tupla[0].rotate(180).save(\"imagenes_generadas/imagen{}.jpg\".format(i), \"JPEG\")\\n    i+=1\\n    tupla[1].rotate(180).save(\"imagenes_generadas/imagen{}.jpg\".format(i), \"JPEG\")\\n    i+=1\\n    tupla[2].rotate(180).save(\"imagenes_generadas/imagen{}.jpg\".format(i), \"JPEG\")\\n    i+=1\\n\\n#Agora las rotamos 270 grados\\n\\nfor infile in glob.glob(\"*.jpg\"):\\n    file, ext = os.path.splitext(infile)\\n    im = Image.open(infile)\\n    im.thumbnail(size)\\n    im.rotate(270).save(\"imagenes_generadas/imagen{}.jpg\".format(i), \"JPEG\")\\n    i+=1\\n    tupla=im.split()\\n    tupla[0].rotate(270).save(\"imagenes_generadas/imagen{}.jpg\".format(i), \"JPEG\")\\n    i+=1\\n    tupla[1].rotate(270).save(\"imagenes_generadas/imagen{}.jpg\".format(i), \"JPEG\")\\n    i+=1\\n    tupla[2].rotate(270).save(\"imagenes_generadas/imagen{}.jpg\".format(i), \"JPEG\")\\n    i+=1#con esto ahora tenemos 203 imagenes igual tal vez no sean suficientes pero es un gran avance \\n#de ser necesario tendriamos que meter mas \\n'"
      ]
     },
     "execution_count": 2,
     "metadata": {},
     "output_type": "execute_result"
    }
   ],
   "source": [
    "from PIL import Image\n",
    "import glob, os\n",
    "\n",
    "\n",
    "size = 300, 300\n",
    "i=0\n",
    "\n",
    "\"\"\"\n",
    "#Las guardamos del mismo tamaño en la carpeta\n",
    "for infile in glob.glob(\"*.jpg\"):\n",
    "    file, ext = os.path.splitext(infile)\n",
    "    im = Image.open(infile)\n",
    "    im.thumbnail(size)\n",
    "    im.save(\"../imagenes_generadas/imagen{}.jpg\".format(i), \"JPEG\")\n",
    "    i+=1\n",
    "    tupla=im.split()\n",
    "    tupla[0].save(\"../imagenes_generadas/imagen{}.jpg\".format(i), \"JPEG\")\n",
    "    i+=1\n",
    "    tupla[1].save(\"../imagenes_generadas/imagen{}.jpg\".format(i), \"JPEG\")\n",
    "    i+=1\n",
    "    tupla[2].save(\"../imagenes_generadas/imagen{}.jpg\".format(i), \"JPEG\")\n",
    "    i+=1\n",
    "\"\"\"\n",
    "#Agora las rotamos 45 grados\n",
    "for infile in glob.glob(\"*.jpg\"):\n",
    "    file, ext = os.path.splitext(infile)\n",
    "    im = Image.open(infile)\n",
    "    im.thumbnail(size)\n",
    "    im.rotate(45).save(\"../imagenes_generadas/imagen{}.jpg\".format(i), \"JPEG\")\n",
    "    i+=1\n",
    "    tupla=im.split()\n",
    "    tupla[0].rotate(45).save(\"../imagenes_generadas/imagen{}.jpg\".format(i), \"JPEG\")\n",
    "    i+=1\n",
    "    tupla[1].rotate(45).save(\"../imagenes_generadas/imagen{}.jpg\".format(i), \"JPEG\")\n",
    "    i+=1\n",
    "    tupla[2].rotate(45).save(\"../imagenes_generadas/imagen{}.jpg\".format(i), \"JPEG\")\n",
    "    i+=1\n",
    "#Ahora si quieres mas imagenes debes de aplicar para 180,270 \n"
   ]
  },
  {
   "cell_type": "code",
   "execution_count": null,
   "metadata": {
    "collapsed": true
   },
   "outputs": [],
   "source": []
  }
 ],
 "metadata": {
  "anaconda-cloud": {},
  "kernelspec": {
   "display_name": "Python [default]",
   "language": "python",
   "name": "python3"
  },
  "language_info": {
   "codemirror_mode": {
    "name": "ipython",
    "version": 3
   },
   "file_extension": ".py",
   "mimetype": "text/x-python",
   "name": "python",
   "nbconvert_exporter": "python",
   "pygments_lexer": "ipython3",
   "version": "3.5.4"
  }
 },
 "nbformat": 4,
 "nbformat_minor": 2
}
